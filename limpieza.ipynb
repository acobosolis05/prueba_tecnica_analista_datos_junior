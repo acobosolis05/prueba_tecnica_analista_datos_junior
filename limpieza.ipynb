{
 "cells": [
  {
   "cell_type": "markdown",
   "id": "ef5fc6db",
   "metadata": {},
   "source": [
    "Cargar datos y crear copia del dataset"
   ]
  },
  {
   "cell_type": "code",
   "execution_count": 165,
   "id": "9a261ea4",
   "metadata": {},
   "outputs": [],
   "source": [
    "import pandas as pd\n",
    "import numpy as np\n",
    "import matplotlib.pyplot as plt"
   ]
  },
  {
   "cell_type": "markdown",
   "id": "b9120026",
   "metadata": {},
   "source": [
    "tabla empleados"
   ]
  },
  {
   "cell_type": "code",
   "execution_count": 166,
   "id": "4fd642a3",
   "metadata": {},
   "outputs": [
    {
     "name": "stdout",
     "output_type": "stream",
     "text": [
      "Requirement already satisfied: openpyxl in c:\\estudio\\prueba_tecnica_analista_datos_junior\\.venv\\lib\\site-packages (3.1.5)\n",
      "Requirement already satisfied: et-xmlfile in c:\\estudio\\prueba_tecnica_analista_datos_junior\\.venv\\lib\\site-packages (from openpyxl) (2.0.0)\n",
      "Note: you may need to restart the kernel to use updated packages.\n"
     ]
    },
    {
     "name": "stderr",
     "output_type": "stream",
     "text": [
      "\n",
      "[notice] A new release of pip is available: 23.2.1 -> 25.2\n",
      "[notice] To update, run: python.exe -m pip install --upgrade pip\n"
     ]
    },
    {
     "data": {
      "text/html": [
       "<div>\n",
       "<style scoped>\n",
       "    .dataframe tbody tr th:only-of-type {\n",
       "        vertical-align: middle;\n",
       "    }\n",
       "\n",
       "    .dataframe tbody tr th {\n",
       "        vertical-align: top;\n",
       "    }\n",
       "\n",
       "    .dataframe thead th {\n",
       "        text-align: right;\n",
       "    }\n",
       "</style>\n",
       "<table border=\"1\" class=\"dataframe\">\n",
       "  <thead>\n",
       "    <tr style=\"text-align: right;\">\n",
       "      <th></th>\n",
       "      <th>id</th>\n",
       "      <th>nombre</th>\n",
       "      <th>salario</th>\n",
       "      <th>departamento_id</th>\n",
       "    </tr>\n",
       "  </thead>\n",
       "  <tbody>\n",
       "    <tr>\n",
       "      <th>0</th>\n",
       "      <td>1</td>\n",
       "      <td>Empleado_1</td>\n",
       "      <td>3000</td>\n",
       "      <td>61.0</td>\n",
       "    </tr>\n",
       "    <tr>\n",
       "      <th>1</th>\n",
       "      <td>2</td>\n",
       "      <td>Empleado_2</td>\n",
       "      <td>2000</td>\n",
       "      <td>38.0</td>\n",
       "    </tr>\n",
       "    <tr>\n",
       "      <th>2</th>\n",
       "      <td>3</td>\n",
       "      <td>Empleado_3</td>\n",
       "      <td>1000</td>\n",
       "      <td>22.0</td>\n",
       "    </tr>\n",
       "    <tr>\n",
       "      <th>3</th>\n",
       "      <td>4</td>\n",
       "      <td>Empleado_4</td>\n",
       "      <td>dosmil</td>\n",
       "      <td>69.0</td>\n",
       "    </tr>\n",
       "    <tr>\n",
       "      <th>4</th>\n",
       "      <td>5</td>\n",
       "      <td>Empleado_5</td>\n",
       "      <td>3000</td>\n",
       "      <td>23.0</td>\n",
       "    </tr>\n",
       "    <tr>\n",
       "      <th>...</th>\n",
       "      <td>...</td>\n",
       "      <td>...</td>\n",
       "      <td>...</td>\n",
       "      <td>...</td>\n",
       "    </tr>\n",
       "    <tr>\n",
       "      <th>995</th>\n",
       "      <td>996</td>\n",
       "      <td>Empleado_996</td>\n",
       "      <td>-100</td>\n",
       "      <td>5.0</td>\n",
       "    </tr>\n",
       "    <tr>\n",
       "      <th>996</th>\n",
       "      <td>997</td>\n",
       "      <td>Empleado_997</td>\n",
       "      <td>3000</td>\n",
       "      <td>59.0</td>\n",
       "    </tr>\n",
       "    <tr>\n",
       "      <th>997</th>\n",
       "      <td>998</td>\n",
       "      <td>Empleado_998</td>\n",
       "      <td>2000</td>\n",
       "      <td>38.0</td>\n",
       "    </tr>\n",
       "    <tr>\n",
       "      <th>998</th>\n",
       "      <td>999</td>\n",
       "      <td>Empleado_999</td>\n",
       "      <td>2000</td>\n",
       "      <td>15.0</td>\n",
       "    </tr>\n",
       "    <tr>\n",
       "      <th>999</th>\n",
       "      <td>1000</td>\n",
       "      <td>Empleado_1000</td>\n",
       "      <td>-100</td>\n",
       "      <td>53.0</td>\n",
       "    </tr>\n",
       "  </tbody>\n",
       "</table>\n",
       "<p>1000 rows × 4 columns</p>\n",
       "</div>"
      ],
      "text/plain": [
       "       id         nombre salario  departamento_id\n",
       "0       1     Empleado_1    3000             61.0\n",
       "1       2     Empleado_2    2000             38.0\n",
       "2       3     Empleado_3    1000             22.0\n",
       "3       4     Empleado_4  dosmil             69.0\n",
       "4       5     Empleado_5    3000             23.0\n",
       "..    ...            ...     ...              ...\n",
       "995   996   Empleado_996    -100              5.0\n",
       "996   997   Empleado_997    3000             59.0\n",
       "997   998   Empleado_998    2000             38.0\n",
       "998   999   Empleado_999    2000             15.0\n",
       "999  1000  Empleado_1000    -100             53.0\n",
       "\n",
       "[1000 rows x 4 columns]"
      ]
     },
     "execution_count": 166,
     "metadata": {},
     "output_type": "execute_result"
    }
   ],
   "source": [
    "%pip install openpyxl\n",
    "\n",
    "data = pd.read_excel(\"BD_Prueba.xlsx\", sheet_name='empleados')\n",
    "data"
   ]
  },
  {
   "cell_type": "code",
   "execution_count": 167,
   "id": "6d881a88",
   "metadata": {},
   "outputs": [
    {
     "data": {
      "text/plain": [
       "id                   int64\n",
       "nombre              object\n",
       "salario             object\n",
       "departamento_id    float64\n",
       "dtype: object"
      ]
     },
     "execution_count": 167,
     "metadata": {},
     "output_type": "execute_result"
    }
   ],
   "source": [
    "data.dtypes"
   ]
  },
  {
   "cell_type": "code",
   "execution_count": 168,
   "id": "146aa16d",
   "metadata": {},
   "outputs": [
    {
     "name": "stdout",
     "output_type": "stream",
     "text": [
      "\n",
      "Estadística de datos en el DataFrame:\n"
     ]
    },
    {
     "data": {
      "text/html": [
       "<div>\n",
       "<style scoped>\n",
       "    .dataframe tbody tr th:only-of-type {\n",
       "        vertical-align: middle;\n",
       "    }\n",
       "\n",
       "    .dataframe tbody tr th {\n",
       "        vertical-align: top;\n",
       "    }\n",
       "\n",
       "    .dataframe thead th {\n",
       "        text-align: right;\n",
       "    }\n",
       "</style>\n",
       "<table border=\"1\" class=\"dataframe\">\n",
       "  <thead>\n",
       "    <tr style=\"text-align: right;\">\n",
       "      <th></th>\n",
       "      <th>id</th>\n",
       "      <th>departamento_id</th>\n",
       "    </tr>\n",
       "  </thead>\n",
       "  <tbody>\n",
       "    <tr>\n",
       "      <th>count</th>\n",
       "      <td>1000.000000</td>\n",
       "      <td>985.000000</td>\n",
       "    </tr>\n",
       "    <tr>\n",
       "      <th>mean</th>\n",
       "      <td>500.500000</td>\n",
       "      <td>35.714721</td>\n",
       "    </tr>\n",
       "    <tr>\n",
       "      <th>std</th>\n",
       "      <td>288.819436</td>\n",
       "      <td>20.201848</td>\n",
       "    </tr>\n",
       "    <tr>\n",
       "      <th>min</th>\n",
       "      <td>1.000000</td>\n",
       "      <td>1.000000</td>\n",
       "    </tr>\n",
       "    <tr>\n",
       "      <th>25%</th>\n",
       "      <td>250.750000</td>\n",
       "      <td>18.000000</td>\n",
       "    </tr>\n",
       "    <tr>\n",
       "      <th>50%</th>\n",
       "      <td>500.500000</td>\n",
       "      <td>36.000000</td>\n",
       "    </tr>\n",
       "    <tr>\n",
       "      <th>75%</th>\n",
       "      <td>750.250000</td>\n",
       "      <td>54.000000</td>\n",
       "    </tr>\n",
       "    <tr>\n",
       "      <th>max</th>\n",
       "      <td>1000.000000</td>\n",
       "      <td>69.000000</td>\n",
       "    </tr>\n",
       "  </tbody>\n",
       "</table>\n",
       "</div>"
      ],
      "text/plain": [
       "                id  departamento_id\n",
       "count  1000.000000       985.000000\n",
       "mean    500.500000        35.714721\n",
       "std     288.819436        20.201848\n",
       "min       1.000000         1.000000\n",
       "25%     250.750000        18.000000\n",
       "50%     500.500000        36.000000\n",
       "75%     750.250000        54.000000\n",
       "max    1000.000000        69.000000"
      ]
     },
     "execution_count": 168,
     "metadata": {},
     "output_type": "execute_result"
    }
   ],
   "source": [
    "print('\\nEstadística de datos en el DataFrame:')  \n",
    "data.describe()"
   ]
  },
  {
   "cell_type": "code",
   "execution_count": 169,
   "id": "8d6cfe73",
   "metadata": {},
   "outputs": [
    {
     "name": "stdout",
     "output_type": "stream",
     "text": [
      "Datos nulos en el DataFrame:\n"
     ]
    },
    {
     "data": {
      "text/plain": [
       "id                   0\n",
       "nombre               0\n",
       "salario            128\n",
       "departamento_id     15\n",
       "dtype: int64"
      ]
     },
     "execution_count": 169,
     "metadata": {},
     "output_type": "execute_result"
    }
   ],
   "source": [
    "print('Datos nulos en el DataFrame:')\n",
    "data.isnull().sum()"
   ]
  },
  {
   "cell_type": "code",
   "execution_count": 170,
   "id": "268e8ae0",
   "metadata": {},
   "outputs": [
    {
     "name": "stdout",
     "output_type": "stream",
     "text": [
      "columna:  id\n",
      "Número devalores únicos: 1000\n",
      "Valores únicos: [ 1  2  3  4  5  6  7  8  9 10]\n",
      "--------------------------------------------------\n",
      "columna:  nombre\n",
      "Número devalores únicos: 1000\n",
      "Valores únicos: ['Empleado_1' 'Empleado_2' 'Empleado_3' 'Empleado_4' 'Empleado_5'\n",
      " 'Empleado_6' 'Empleado_7' 'Empleado_8' 'Empleado_9' 'Empleado_10']\n",
      "--------------------------------------------------\n",
      "columna:  salario\n",
      "Número devalores únicos: 7\n",
      "Valores únicos: [3000 2000 1000 'dosmil' 999999 nan -100]\n",
      "--------------------------------------------------\n",
      "columna:  departamento_id\n",
      "Número devalores únicos: 70\n",
      "Valores únicos: [61. 38. 22. 69. 23. 28. 36. 40. 44. 35.]\n",
      "--------------------------------------------------\n"
     ]
    }
   ],
   "source": [
    "unique_values = {col : data[col].unique() for col in data.columns}\n",
    "for col, values in unique_values.items():\n",
    "    print(f'columna:  {col}')\n",
    "    print(f'Número devalores únicos: {len(values)}')\n",
    "    print(f'Valores únicos: {values[:10]}')\n",
    "    print('-' *50)"
   ]
  },
  {
   "cell_type": "code",
   "execution_count": 171,
   "id": "c89e7019",
   "metadata": {},
   "outputs": [
    {
     "name": "stdout",
     "output_type": "stream",
     "text": [
      "<class 'pandas.core.frame.DataFrame'>\n",
      "RangeIndex: 1000 entries, 0 to 999\n",
      "Data columns (total 4 columns):\n",
      " #   Column           Non-Null Count  Dtype  \n",
      "---  ------           --------------  -----  \n",
      " 0   id               1000 non-null   int64  \n",
      " 1   nombre           1000 non-null   object \n",
      " 2   salario          872 non-null    object \n",
      " 3   departamento_id  985 non-null    float64\n",
      "dtypes: float64(1), int64(1), object(2)\n",
      "memory usage: 31.4+ KB\n"
     ]
    }
   ],
   "source": [
    "data.info()"
   ]
  },
  {
   "cell_type": "markdown",
   "id": "9fd1dcdb",
   "metadata": {},
   "source": [
    "eliminar datos nulos de salario"
   ]
  },
  {
   "cell_type": "code",
   "execution_count": 172,
   "id": "ff6ceb99",
   "metadata": {},
   "outputs": [],
   "source": [
    "\n",
    "data = data.dropna(subset=['salario'])"
   ]
  },
  {
   "cell_type": "markdown",
   "id": "79a2fb45",
   "metadata": {},
   "source": [
    "verificar"
   ]
  },
  {
   "cell_type": "code",
   "execution_count": 173,
   "id": "d80b8eab",
   "metadata": {},
   "outputs": [
    {
     "name": "stdout",
     "output_type": "stream",
     "text": [
      "Datos nulos en el DataFrame:\n"
     ]
    },
    {
     "data": {
      "text/plain": [
       "id                  0\n",
       "nombre              0\n",
       "salario             0\n",
       "departamento_id    13\n",
       "dtype: int64"
      ]
     },
     "execution_count": 173,
     "metadata": {},
     "output_type": "execute_result"
    }
   ],
   "source": [
    "print('Datos nulos en el DataFrame:')\n",
    "data.isnull().sum()"
   ]
  },
  {
   "cell_type": "markdown",
   "id": "dd56590b",
   "metadata": {},
   "source": [
    "eliminar datos nulos de departamento id"
   ]
  },
  {
   "cell_type": "code",
   "execution_count": 174,
   "id": "5f829a56",
   "metadata": {},
   "outputs": [],
   "source": [
    "data = data.dropna(subset=['departamento_id'])"
   ]
  },
  {
   "cell_type": "code",
   "execution_count": 175,
   "id": "1de68a9d",
   "metadata": {},
   "outputs": [
    {
     "name": "stdout",
     "output_type": "stream",
     "text": [
      "Datos nulos en el DataFrame:\n"
     ]
    },
    {
     "data": {
      "text/plain": [
       "id                 0\n",
       "nombre             0\n",
       "salario            0\n",
       "departamento_id    0\n",
       "dtype: int64"
      ]
     },
     "execution_count": 175,
     "metadata": {},
     "output_type": "execute_result"
    }
   ],
   "source": [
    "print('Datos nulos en el DataFrame:')\n",
    "data.isnull().sum()"
   ]
  },
  {
   "cell_type": "markdown",
   "id": "bccf7e6a",
   "metadata": {},
   "source": [
    "verificar nuevamente valores unicos"
   ]
  },
  {
   "cell_type": "code",
   "execution_count": 176,
   "id": "80603680",
   "metadata": {},
   "outputs": [
    {
     "name": "stdout",
     "output_type": "stream",
     "text": [
      "columna:  id\n",
      "Número devalores únicos: 859\n",
      "Valores únicos: [ 1  2  3  4  5  6  7  8  9 10]\n",
      "--------------------------------------------------\n",
      "columna:  nombre\n",
      "Número devalores únicos: 859\n",
      "Valores únicos: ['Empleado_1' 'Empleado_2' 'Empleado_3' 'Empleado_4' 'Empleado_5'\n",
      " 'Empleado_6' 'Empleado_7' 'Empleado_8' 'Empleado_9' 'Empleado_10']\n",
      "--------------------------------------------------\n",
      "columna:  salario\n",
      "Número devalores únicos: 6\n",
      "Valores únicos: [3000 2000 1000 'dosmil' 999999 -100]\n",
      "--------------------------------------------------\n",
      "columna:  departamento_id\n",
      "Número devalores únicos: 69\n",
      "Valores únicos: [61. 38. 22. 69. 23. 28. 36. 40. 44. 35.]\n",
      "--------------------------------------------------\n"
     ]
    }
   ],
   "source": [
    "unique_values = {col : data[col].unique() for col in data.columns}\n",
    "for col, values in unique_values.items():\n",
    "    print(f'columna:  {col}')\n",
    "    print(f'Número devalores únicos: {len(values)}')\n",
    "    print(f'Valores únicos: {values[:10]}')\n",
    "    print('-' *50)"
   ]
  },
  {
   "cell_type": "markdown",
   "id": "5f93a8c0",
   "metadata": {},
   "source": [
    "salario tengo valores en salario tipo string de dosmil debo cambiar a 2000 y eliminar valores negativos como el de -100"
   ]
  },
  {
   "cell_type": "code",
   "execution_count": 177,
   "id": "fcc272a9",
   "metadata": {},
   "outputs": [
    {
     "name": "stderr",
     "output_type": "stream",
     "text": [
      "C:\\Users\\damak\\AppData\\Local\\Temp\\ipykernel_6016\\2281760398.py:1: FutureWarning: Downcasting behavior in `replace` is deprecated and will be removed in a future version. To retain the old behavior, explicitly call `result.infer_objects(copy=False)`. To opt-in to the future behavior, set `pd.set_option('future.no_silent_downcasting', True)`\n",
      "  data['salario'] = data['salario'].replace('dosmil', 2000)\n"
     ]
    }
   ],
   "source": [
    "data['salario'] = data['salario'].replace('dosmil', 2000)\n"
   ]
  },
  {
   "cell_type": "code",
   "execution_count": 178,
   "id": "a0539653",
   "metadata": {},
   "outputs": [],
   "source": [
    "data = data[data['salario'] >= 0]"
   ]
  },
  {
   "cell_type": "code",
   "execution_count": 179,
   "id": "1b23e0db",
   "metadata": {},
   "outputs": [
    {
     "data": {
      "text/plain": [
       "dtype('int64')"
      ]
     },
     "execution_count": 179,
     "metadata": {},
     "output_type": "execute_result"
    }
   ],
   "source": [
    "data['salario'] = data['salario'].astype(int)\n",
    "data['salario'].dtype"
   ]
  },
  {
   "cell_type": "markdown",
   "id": "f06347a4",
   "metadata": {},
   "source": [
    "## tabla departamentos"
   ]
  },
  {
   "cell_type": "code",
   "execution_count": 180,
   "id": "a5c481bb",
   "metadata": {},
   "outputs": [
    {
     "data": {
      "text/html": [
       "<div>\n",
       "<style scoped>\n",
       "    .dataframe tbody tr th:only-of-type {\n",
       "        vertical-align: middle;\n",
       "    }\n",
       "\n",
       "    .dataframe tbody tr th {\n",
       "        vertical-align: top;\n",
       "    }\n",
       "\n",
       "    .dataframe thead th {\n",
       "        text-align: right;\n",
       "    }\n",
       "</style>\n",
       "<table border=\"1\" class=\"dataframe\">\n",
       "  <thead>\n",
       "    <tr style=\"text-align: right;\">\n",
       "      <th></th>\n",
       "      <th>id</th>\n",
       "      <th>nombre</th>\n",
       "    </tr>\n",
       "  </thead>\n",
       "  <tbody>\n",
       "    <tr>\n",
       "      <th>0</th>\n",
       "      <td>1</td>\n",
       "      <td>Ventas</td>\n",
       "    </tr>\n",
       "    <tr>\n",
       "      <th>1</th>\n",
       "      <td>2</td>\n",
       "      <td>IT</td>\n",
       "    </tr>\n",
       "    <tr>\n",
       "      <th>2</th>\n",
       "      <td>3</td>\n",
       "      <td>IT</td>\n",
       "    </tr>\n",
       "    <tr>\n",
       "      <th>3</th>\n",
       "      <td>4</td>\n",
       "      <td>IT</td>\n",
       "    </tr>\n",
       "    <tr>\n",
       "      <th>4</th>\n",
       "      <td>5</td>\n",
       "      <td>RRHH</td>\n",
       "    </tr>\n",
       "  </tbody>\n",
       "</table>\n",
       "</div>"
      ],
      "text/plain": [
       "   id  nombre\n",
       "0   1  Ventas\n",
       "1   2      IT\n",
       "2   3      IT\n",
       "3   4      IT\n",
       "4   5    RRHH"
      ]
     },
     "execution_count": 180,
     "metadata": {},
     "output_type": "execute_result"
    }
   ],
   "source": [
    "data_dos = pd.read_excel(\"BD_Prueba.xlsx\", sheet_name='departamentos')\n",
    "data_dos.head()"
   ]
  },
  {
   "cell_type": "code",
   "execution_count": 181,
   "id": "2fee070e",
   "metadata": {},
   "outputs": [
    {
     "name": "stdout",
     "output_type": "stream",
     "text": [
      "<class 'pandas.core.frame.DataFrame'>\n",
      "RangeIndex: 50 entries, 0 to 49\n",
      "Data columns (total 2 columns):\n",
      " #   Column  Non-Null Count  Dtype \n",
      "---  ------  --------------  ----- \n",
      " 0   id      50 non-null     int64 \n",
      " 1   nombre  45 non-null     object\n",
      "dtypes: int64(1), object(1)\n",
      "memory usage: 932.0+ bytes\n"
     ]
    }
   ],
   "source": [
    "data_dos.info()"
   ]
  },
  {
   "cell_type": "markdown",
   "id": "1d7ed2f0",
   "metadata": {},
   "source": [
    "verificar datos nulos"
   ]
  },
  {
   "cell_type": "code",
   "execution_count": 182,
   "id": "09a09a24",
   "metadata": {},
   "outputs": [
    {
     "name": "stdout",
     "output_type": "stream",
     "text": [
      "Datos nulos en el DataFrame departamento:\n"
     ]
    },
    {
     "data": {
      "text/plain": [
       "id        0\n",
       "nombre    5\n",
       "dtype: int64"
      ]
     },
     "execution_count": 182,
     "metadata": {},
     "output_type": "execute_result"
    }
   ],
   "source": [
    "print('Datos nulos en el DataFrame departamento:')\n",
    "data_dos.isnull().sum()"
   ]
  },
  {
   "cell_type": "code",
   "execution_count": 183,
   "id": "b51f354c",
   "metadata": {},
   "outputs": [],
   "source": [
    "data_dos = data_dos.dropna(subset=['nombre'])"
   ]
  },
  {
   "cell_type": "code",
   "execution_count": 184,
   "id": "d4bba6b9",
   "metadata": {},
   "outputs": [
    {
     "name": "stdout",
     "output_type": "stream",
     "text": [
      "Datos nulos en el DataFrame departamento:\n"
     ]
    },
    {
     "data": {
      "text/plain": [
       "id        0\n",
       "nombre    0\n",
       "dtype: int64"
      ]
     },
     "execution_count": 184,
     "metadata": {},
     "output_type": "execute_result"
    }
   ],
   "source": [
    "print('Datos nulos en el DataFrame departamento:')\n",
    "data_dos.isnull().sum()"
   ]
  },
  {
   "cell_type": "code",
   "execution_count": 185,
   "id": "033ea73e",
   "metadata": {},
   "outputs": [
    {
     "name": "stdout",
     "output_type": "stream",
     "text": [
      "columna:  id\n",
      "Número devalores únicos: 45\n",
      "Valores únicos: [ 1  2  3  4  5  6  7  9 11 12]\n",
      "--------------------------------------------------\n",
      "columna:  nombre\n",
      "Número devalores únicos: 4\n",
      "Valores únicos: ['Ventas' 'IT' 'RRHH' '123']\n",
      "--------------------------------------------------\n"
     ]
    }
   ],
   "source": [
    "unique_values = {col : data_dos[col].unique() for col in data_dos.columns}\n",
    "for col, values in unique_values.items():\n",
    "    print(f'columna:  {col}')\n",
    "    print(f'Número devalores únicos: {len(values)}')\n",
    "    print(f'Valores únicos: {values[:10]}')\n",
    "    print('-' *50)"
   ]
  },
  {
   "cell_type": "markdown",
   "id": "8856ad13",
   "metadata": {},
   "source": [
    "eliminar valores de nombre de departamento como 123"
   ]
  },
  {
   "cell_type": "code",
   "execution_count": 186,
   "id": "730b14fc",
   "metadata": {},
   "outputs": [],
   "source": [
    "data_dos = data_dos[data_dos['nombre'].apply(lambda x: isinstance(x, str) and not x.isdigit())]"
   ]
  },
  {
   "cell_type": "markdown",
   "id": "fe01d413",
   "metadata": {},
   "source": [
    "verificación de los datos"
   ]
  },
  {
   "cell_type": "code",
   "execution_count": 187,
   "id": "d56126e0",
   "metadata": {},
   "outputs": [
    {
     "name": "stdout",
     "output_type": "stream",
     "text": [
      "columna:  id\n",
      "Número devalores únicos: 34\n",
      "Valores únicos: [ 1  2  3  4  5  6  7  9 11 12]\n",
      "--------------------------------------------------\n",
      "columna:  nombre\n",
      "Número devalores únicos: 3\n",
      "Valores únicos: ['Ventas' 'IT' 'RRHH']\n",
      "--------------------------------------------------\n"
     ]
    }
   ],
   "source": [
    "unique_values = {col : data_dos[col].unique() for col in data_dos.columns}\n",
    "for col, values in unique_values.items():\n",
    "    print(f'columna:  {col}')\n",
    "    print(f'Número devalores únicos: {len(values)}')\n",
    "    print(f'Valores únicos: {values[:10]}')\n",
    "    print('-' *50)"
   ]
  },
  {
   "cell_type": "markdown",
   "id": "cf987b69",
   "metadata": {},
   "source": [
    "## tabla compras"
   ]
  },
  {
   "cell_type": "code",
   "execution_count": 188,
   "id": "4ebafe0c",
   "metadata": {},
   "outputs": [
    {
     "data": {
      "text/html": [
       "<div>\n",
       "<style scoped>\n",
       "    .dataframe tbody tr th:only-of-type {\n",
       "        vertical-align: middle;\n",
       "    }\n",
       "\n",
       "    .dataframe tbody tr th {\n",
       "        vertical-align: top;\n",
       "    }\n",
       "\n",
       "    .dataframe thead th {\n",
       "        text-align: right;\n",
       "    }\n",
       "</style>\n",
       "<table border=\"1\" class=\"dataframe\">\n",
       "  <thead>\n",
       "    <tr style=\"text-align: right;\">\n",
       "      <th></th>\n",
       "      <th>id</th>\n",
       "      <th>cliente_id</th>\n",
       "      <th>fecha</th>\n",
       "      <th>monto</th>\n",
       "    </tr>\n",
       "  </thead>\n",
       "  <tbody>\n",
       "    <tr>\n",
       "      <th>0</th>\n",
       "      <td>1</td>\n",
       "      <td>191</td>\n",
       "      <td>2021-11-16</td>\n",
       "      <td>abc</td>\n",
       "    </tr>\n",
       "    <tr>\n",
       "      <th>1</th>\n",
       "      <td>2</td>\n",
       "      <td>548</td>\n",
       "      <td>2022-07-12</td>\n",
       "      <td>-50</td>\n",
       "    </tr>\n",
       "    <tr>\n",
       "      <th>2</th>\n",
       "      <td>3</td>\n",
       "      <td>604</td>\n",
       "      <td>2021-07-21</td>\n",
       "      <td>abc</td>\n",
       "    </tr>\n",
       "    <tr>\n",
       "      <th>3</th>\n",
       "      <td>4</td>\n",
       "      <td>2255</td>\n",
       "      <td>2020-04-01</td>\n",
       "      <td>NaN</td>\n",
       "    </tr>\n",
       "    <tr>\n",
       "      <th>4</th>\n",
       "      <td>5</td>\n",
       "      <td>2022</td>\n",
       "      <td>2022-07-20</td>\n",
       "      <td>100</td>\n",
       "    </tr>\n",
       "  </tbody>\n",
       "</table>\n",
       "</div>"
      ],
      "text/plain": [
       "   id  cliente_id      fecha monto\n",
       "0   1         191 2021-11-16   abc\n",
       "1   2         548 2022-07-12   -50\n",
       "2   3         604 2021-07-21   abc\n",
       "3   4        2255 2020-04-01   NaN\n",
       "4   5        2022 2022-07-20   100"
      ]
     },
     "execution_count": 188,
     "metadata": {},
     "output_type": "execute_result"
    }
   ],
   "source": [
    "data_tres = pd.read_excel(\"BD_Prueba.xlsx\", sheet_name='compras')\n",
    "data_tres.head()"
   ]
  },
  {
   "cell_type": "code",
   "execution_count": 189,
   "id": "524b167f",
   "metadata": {},
   "outputs": [
    {
     "name": "stdout",
     "output_type": "stream",
     "text": [
      "<class 'pandas.core.frame.DataFrame'>\n",
      "RangeIndex: 10000 entries, 0 to 9999\n",
      "Data columns (total 4 columns):\n",
      " #   Column      Non-Null Count  Dtype         \n",
      "---  ------      --------------  -----         \n",
      " 0   id          10000 non-null  int64         \n",
      " 1   cliente_id  10000 non-null  int64         \n",
      " 2   fecha       9996 non-null   datetime64[ns]\n",
      " 3   monto       8714 non-null   object        \n",
      "dtypes: datetime64[ns](1), int64(2), object(1)\n",
      "memory usage: 312.6+ KB\n"
     ]
    }
   ],
   "source": [
    "data_tres.info()"
   ]
  },
  {
   "cell_type": "code",
   "execution_count": 190,
   "id": "2e2c8953",
   "metadata": {},
   "outputs": [
    {
     "name": "stdout",
     "output_type": "stream",
     "text": [
      "Datos nulos en el DataFrame compras:\n"
     ]
    },
    {
     "data": {
      "text/plain": [
       "id               0\n",
       "cliente_id       0\n",
       "fecha            4\n",
       "monto         1286\n",
       "dtype: int64"
      ]
     },
     "execution_count": 190,
     "metadata": {},
     "output_type": "execute_result"
    }
   ],
   "source": [
    "print('Datos nulos en el DataFrame compras:')\n",
    "data_tres.isnull().sum()"
   ]
  },
  {
   "cell_type": "markdown",
   "id": "14aec026",
   "metadata": {},
   "source": [
    "cambiar la fecha a datetime y eliminar nulos"
   ]
  },
  {
   "cell_type": "code",
   "execution_count": 191,
   "id": "f24414b5",
   "metadata": {},
   "outputs": [],
   "source": [
    "data_tres['fecha'] = pd.to_datetime(data_tres['fecha'], errors='coerce')\n",
    "data_tres = data_tres.dropna(subset=['fecha'])"
   ]
  },
  {
   "cell_type": "markdown",
   "id": "e16ce1eb",
   "metadata": {},
   "source": [
    "Poner cero en los datos de compras nulos"
   ]
  },
  {
   "cell_type": "code",
   "execution_count": 192,
   "id": "a2d88425",
   "metadata": {},
   "outputs": [
    {
     "name": "stdout",
     "output_type": "stream",
     "text": [
      "columna:  id\n",
      "Número devalores únicos: 9996\n",
      "Valores únicos: [ 1  2  3  4  5  6  7  8  9 10]\n",
      "--------------------------------------------------\n",
      "columna:  cliente_id\n",
      "Número devalores únicos: 2454\n",
      "Valores únicos: [ 191  548  604 2255 2022 1564  185  244  955  158]\n",
      "--------------------------------------------------\n",
      "columna:  fecha\n",
      "Número devalores únicos: 1764\n",
      "Valores únicos: <DatetimeArray>\n",
      "['2021-11-16 00:00:00', '2022-07-12 00:00:00', '2021-07-21 00:00:00',\n",
      " '2020-04-01 00:00:00', '2022-07-20 00:00:00', '2020-11-24 00:00:00',\n",
      " '2021-03-13 00:00:00', '2022-05-07 00:00:00', '2023-02-25 00:00:00',\n",
      " '2024-11-17 00:00:00']\n",
      "Length: 10, dtype: datetime64[ns]\n",
      "--------------------------------------------------\n",
      "columna:  monto\n",
      "Número devalores únicos: 8\n",
      "Valores únicos: ['abc' -50 nan 100 1000000 200 5000 300]\n",
      "--------------------------------------------------\n"
     ]
    }
   ],
   "source": [
    "unique_values = {col : data_tres[col].unique() for col in data_tres.columns}\n",
    "for col, values in unique_values.items():\n",
    "    print(f'columna:  {col}')\n",
    "    print(f'Número devalores únicos: {len(values)}')\n",
    "    print(f'Valores únicos: {values[:10]}')\n",
    "    print('-' *50)"
   ]
  },
  {
   "cell_type": "markdown",
   "id": "32675da9",
   "metadata": {},
   "source": [
    "quitar duplicados de cliente_id"
   ]
  },
  {
   "cell_type": "code",
   "execution_count": 193,
   "id": "31aa4bb3",
   "metadata": {},
   "outputs": [],
   "source": [
    "data_tres = data_tres.drop_duplicates(subset=['cliente_id'])"
   ]
  },
  {
   "cell_type": "markdown",
   "id": "04f046a8",
   "metadata": {},
   "source": [
    "quitar valores de abc de la columna monto y cambiar los nan por 0"
   ]
  },
  {
   "cell_type": "code",
   "execution_count": 194,
   "id": "1d73fb82",
   "metadata": {},
   "outputs": [],
   "source": [
    "data_tres = data_tres[data_tres[\"monto\"] != \"abc\"]\n"
   ]
  },
  {
   "cell_type": "code",
   "execution_count": 195,
   "id": "ae773193",
   "metadata": {},
   "outputs": [
    {
     "name": "stderr",
     "output_type": "stream",
     "text": [
      "C:\\Users\\damak\\AppData\\Local\\Temp\\ipykernel_6016\\3893307774.py:1: FutureWarning: Downcasting object dtype arrays on .fillna, .ffill, .bfill is deprecated and will change in a future version. Call result.infer_objects(copy=False) instead. To opt-in to the future behavior, set `pd.set_option('future.no_silent_downcasting', True)`\n",
      "  data_tres[\"monto\"] = data_tres[\"monto\"].fillna(0)\n"
     ]
    }
   ],
   "source": [
    "data_tres[\"monto\"] = data_tres[\"monto\"].fillna(0)"
   ]
  },
  {
   "cell_type": "code",
   "execution_count": 196,
   "id": "ab8aa543",
   "metadata": {},
   "outputs": [
    {
     "name": "stdout",
     "output_type": "stream",
     "text": [
      "columna:  id\n",
      "Número devalores únicos: 2155\n",
      "Valores únicos: [ 2  4  5  6  7  8  9 10 11 14]\n",
      "--------------------------------------------------\n",
      "columna:  cliente_id\n",
      "Número devalores únicos: 2155\n",
      "Valores únicos: [ 548 2255 2022 1564  185  244  955  158 2028 1136]\n",
      "--------------------------------------------------\n",
      "columna:  fecha\n",
      "Número devalores únicos: 1180\n",
      "Valores únicos: <DatetimeArray>\n",
      "['2022-07-12 00:00:00', '2020-04-01 00:00:00', '2022-07-20 00:00:00',\n",
      " '2020-11-24 00:00:00', '2021-03-13 00:00:00', '2022-05-07 00:00:00',\n",
      " '2023-02-25 00:00:00', '2024-11-17 00:00:00', '2021-02-13 00:00:00',\n",
      " '2024-10-26 00:00:00']\n",
      "Length: 10, dtype: datetime64[ns]\n",
      "--------------------------------------------------\n",
      "columna:  monto\n",
      "Número devalores únicos: 7\n",
      "Valores únicos: [    -50       0     100 1000000     200    5000     300]\n",
      "--------------------------------------------------\n"
     ]
    }
   ],
   "source": [
    "unique_values = {col : data_tres[col].unique() for col in data_tres.columns}\n",
    "for col, values in unique_values.items():\n",
    "    print(f'columna:  {col}')\n",
    "    print(f'Número devalores únicos: {len(values)}')\n",
    "    print(f'Valores únicos: {values[:10]}')\n",
    "    print('-' *50)"
   ]
  },
  {
   "cell_type": "code",
   "execution_count": 197,
   "id": "925324ad",
   "metadata": {},
   "outputs": [
    {
     "name": "stdout",
     "output_type": "stream",
     "text": [
      "<class 'pandas.core.frame.DataFrame'>\n",
      "Index: 2155 entries, 1 to 9836\n",
      "Data columns (total 4 columns):\n",
      " #   Column      Non-Null Count  Dtype         \n",
      "---  ------      --------------  -----         \n",
      " 0   id          2155 non-null   int64         \n",
      " 1   cliente_id  2155 non-null   int64         \n",
      " 2   fecha       2155 non-null   datetime64[ns]\n",
      " 3   monto       2155 non-null   int64         \n",
      "dtypes: datetime64[ns](1), int64(3)\n",
      "memory usage: 84.2 KB\n"
     ]
    }
   ],
   "source": [
    "data_tres.info()"
   ]
  },
  {
   "cell_type": "markdown",
   "id": "2ac48a3e",
   "metadata": {},
   "source": [
    "## tabla clientes"
   ]
  },
  {
   "cell_type": "code",
   "execution_count": 198,
   "id": "f172d822",
   "metadata": {},
   "outputs": [
    {
     "data": {
      "text/html": [
       "<div>\n",
       "<style scoped>\n",
       "    .dataframe tbody tr th:only-of-type {\n",
       "        vertical-align: middle;\n",
       "    }\n",
       "\n",
       "    .dataframe tbody tr th {\n",
       "        vertical-align: top;\n",
       "    }\n",
       "\n",
       "    .dataframe thead th {\n",
       "        text-align: right;\n",
       "    }\n",
       "</style>\n",
       "<table border=\"1\" class=\"dataframe\">\n",
       "  <thead>\n",
       "    <tr style=\"text-align: right;\">\n",
       "      <th></th>\n",
       "      <th>id</th>\n",
       "      <th>nombre</th>\n",
       "      <th>edad</th>\n",
       "    </tr>\n",
       "  </thead>\n",
       "  <tbody>\n",
       "    <tr>\n",
       "      <th>0</th>\n",
       "      <td>1</td>\n",
       "      <td>Cliente_1</td>\n",
       "      <td>32.0</td>\n",
       "    </tr>\n",
       "    <tr>\n",
       "      <th>1</th>\n",
       "      <td>2</td>\n",
       "      <td>Cliente_2</td>\n",
       "      <td>150.0</td>\n",
       "    </tr>\n",
       "    <tr>\n",
       "      <th>2</th>\n",
       "      <td>3</td>\n",
       "      <td>Cliente_3</td>\n",
       "      <td>200.0</td>\n",
       "    </tr>\n",
       "    <tr>\n",
       "      <th>3</th>\n",
       "      <td>4</td>\n",
       "      <td>Cliente_4</td>\n",
       "      <td>150.0</td>\n",
       "    </tr>\n",
       "    <tr>\n",
       "      <th>4</th>\n",
       "      <td>5</td>\n",
       "      <td>Cliente_5</td>\n",
       "      <td>NaN</td>\n",
       "    </tr>\n",
       "  </tbody>\n",
       "</table>\n",
       "</div>"
      ],
      "text/plain": [
       "   id     nombre   edad\n",
       "0   1  Cliente_1   32.0\n",
       "1   2  Cliente_2  150.0\n",
       "2   3  Cliente_3  200.0\n",
       "3   4  Cliente_4  150.0\n",
       "4   5  Cliente_5    NaN"
      ]
     },
     "execution_count": 198,
     "metadata": {},
     "output_type": "execute_result"
    }
   ],
   "source": [
    "data_cuatro = pd.read_excel(\"BD_Prueba.xlsx\", sheet_name='clientes')\n",
    "data_cuatro.head()"
   ]
  },
  {
   "cell_type": "code",
   "execution_count": 199,
   "id": "2e1b95b5",
   "metadata": {},
   "outputs": [
    {
     "name": "stdout",
     "output_type": "stream",
     "text": [
      "<class 'pandas.core.frame.DataFrame'>\n",
      "RangeIndex: 2000 entries, 0 to 1999\n",
      "Data columns (total 3 columns):\n",
      " #   Column  Non-Null Count  Dtype  \n",
      "---  ------  --------------  -----  \n",
      " 0   id      2000 non-null   int64  \n",
      " 1   nombre  2000 non-null   object \n",
      " 2   edad    1791 non-null   float64\n",
      "dtypes: float64(1), int64(1), object(1)\n",
      "memory usage: 47.0+ KB\n"
     ]
    }
   ],
   "source": [
    "data_cuatro.info()"
   ]
  },
  {
   "cell_type": "code",
   "execution_count": 200,
   "id": "948b1751",
   "metadata": {},
   "outputs": [
    {
     "name": "stdout",
     "output_type": "stream",
     "text": [
      "Datos nulos en el DataFrame cliente:\n"
     ]
    },
    {
     "data": {
      "text/plain": [
       "id          0\n",
       "nombre      0\n",
       "edad      209\n",
       "dtype: int64"
      ]
     },
     "execution_count": 200,
     "metadata": {},
     "output_type": "execute_result"
    }
   ],
   "source": [
    "print('Datos nulos en el DataFrame cliente:')\n",
    "data_cuatro.isnull().sum()"
   ]
  },
  {
   "cell_type": "markdown",
   "id": "7c62071d",
   "metadata": {},
   "source": [
    "eliminar nulos de edad"
   ]
  },
  {
   "cell_type": "code",
   "execution_count": 201,
   "id": "0dc8af34",
   "metadata": {},
   "outputs": [],
   "source": [
    "data_cuatro = data_cuatro.dropna(subset=['edad'])"
   ]
  },
  {
   "cell_type": "code",
   "execution_count": 202,
   "id": "ec22447f",
   "metadata": {},
   "outputs": [
    {
     "name": "stdout",
     "output_type": "stream",
     "text": [
      "columna:  id\n",
      "Número devalores únicos: 1791\n",
      "Valores únicos: [ 1  2  3  4  7  8  9 10 11 12]\n",
      "--------------------------------------------------\n",
      "columna:  nombre\n",
      "Número devalores únicos: 1791\n",
      "Valores únicos: ['Cliente_1' 'Cliente_2' 'Cliente_3' 'Cliente_4' 'Cliente_7' 'Cliente_8'\n",
      " 'Cliente_9' 'Cliente_10' 'Cliente_11' 'Cliente_12']\n",
      "--------------------------------------------------\n",
      "columna:  edad\n",
      "Número devalores únicos: 8\n",
      "Valores únicos: [ 32. 150. 200.  45.  25.  60.  -5. 999.]\n",
      "--------------------------------------------------\n"
     ]
    }
   ],
   "source": [
    "unique_values = {col : data_cuatro[col].unique() for col in data_cuatro.columns}\n",
    "for col, values in unique_values.items():\n",
    "    print(f'columna:  {col}')\n",
    "    print(f'Número devalores únicos: {len(values)}')\n",
    "    print(f'Valores únicos: {values[:10]}')\n",
    "    print('-' *50)"
   ]
  },
  {
   "cell_type": "markdown",
   "id": "75c3d0f8",
   "metadata": {},
   "source": [
    "eliminar valores negativos de edad"
   ]
  },
  {
   "cell_type": "code",
   "execution_count": 203,
   "id": "b9ba1e5c",
   "metadata": {},
   "outputs": [],
   "source": [
    "data_cuatro = data_cuatro[data_cuatro['edad'] >= 0]"
   ]
  },
  {
   "cell_type": "markdown",
   "id": "58a797ed",
   "metadata": {},
   "source": [
    "eliminar valores mayores a 100 años de edad"
   ]
  },
  {
   "cell_type": "code",
   "execution_count": 204,
   "id": "b943a04b",
   "metadata": {},
   "outputs": [],
   "source": [
    "data_cuatro = data_cuatro[data_cuatro['edad'] <= 100]"
   ]
  },
  {
   "cell_type": "code",
   "execution_count": 161,
   "id": "636b56f4",
   "metadata": {},
   "outputs": [
    {
     "name": "stdout",
     "output_type": "stream",
     "text": [
      "columna:  id\n",
      "Número devalores únicos: 841\n",
      "Valores únicos: [ 1  8  9 10 12 13 14 17 19 21]\n",
      "--------------------------------------------------\n",
      "columna:  nombre\n",
      "Número devalores únicos: 841\n",
      "Valores únicos: ['Cliente_1' 'Cliente_8' 'Cliente_9' 'Cliente_10' 'Cliente_12'\n",
      " 'Cliente_13' 'Cliente_14' 'Cliente_17' 'Cliente_19' 'Cliente_21']\n",
      "--------------------------------------------------\n",
      "columna:  edad\n",
      "Número devalores únicos: 4\n",
      "Valores únicos: [32. 45. 25. 60.]\n",
      "--------------------------------------------------\n"
     ]
    }
   ],
   "source": [
    "unique_values = {col : data_cuatro[col].unique() for col in data_cuatro.columns}\n",
    "for col, values in unique_values.items():\n",
    "    print(f'columna:  {col}')\n",
    "    print(f'Número devalores únicos: {len(values)}')\n",
    "    print(f'Valores únicos: {values[:10]}')\n",
    "    print('-' *50)"
   ]
  },
  {
   "cell_type": "code",
   "execution_count": 205,
   "id": "473049b5",
   "metadata": {},
   "outputs": [
    {
     "name": "stdout",
     "output_type": "stream",
     "text": [
      "Datos nulos en el DataFrame cliente:\n"
     ]
    },
    {
     "data": {
      "text/plain": [
       "id        0\n",
       "nombre    0\n",
       "edad      0\n",
       "dtype: int64"
      ]
     },
     "execution_count": 205,
     "metadata": {},
     "output_type": "execute_result"
    }
   ],
   "source": [
    "print('Datos nulos en el DataFrame cliente:')\n",
    "data_cuatro.isnull().sum()"
   ]
  },
  {
   "cell_type": "markdown",
   "id": "3990bc04",
   "metadata": {},
   "source": [
    "Guardar el dataframe de excel limpieza"
   ]
  },
  {
   "cell_type": "code",
   "execution_count": 206,
   "id": "280e56e9",
   "metadata": {},
   "outputs": [],
   "source": [
    "with pd.ExcelWriter('BD_Limpieza.xlsx') as writer:\n",
    "    data.to_excel(writer, sheet_name='empleados', index=False)\n",
    "    data_dos.to_excel(writer, sheet_name='departamentos', index=False)\n",
    "    data_tres.to_excel(writer, sheet_name='compras', index=False)\n",
    "    data_cuatro.to_excel(writer, sheet_name='clientes', index=False)"
   ]
  }
 ],
 "metadata": {
  "kernelspec": {
   "display_name": ".venv",
   "language": "python",
   "name": "python3"
  },
  "language_info": {
   "codemirror_mode": {
    "name": "ipython",
    "version": 3
   },
   "file_extension": ".py",
   "mimetype": "text/x-python",
   "name": "python",
   "nbconvert_exporter": "python",
   "pygments_lexer": "ipython3",
   "version": "3.11.7"
  }
 },
 "nbformat": 4,
 "nbformat_minor": 5
}
